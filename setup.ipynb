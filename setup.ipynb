{
 "cells": [
  {
   "cell_type": "markdown",
   "metadata": {},
   "source": [
    "# Monolith To MicroServices Udacity Project"
   ]
  },
  {
   "cell_type": "code",
   "execution_count": 1,
   "metadata": {},
   "outputs": [],
   "source": [
    "import json\n",
    "from IPython.utils.text import SList"
   ]
  },
  {
   "cell_type": "markdown",
   "metadata": {},
   "source": [
    "## Setup Secrets"
   ]
  },
  {
   "cell_type": "markdown",
   "metadata": {},
   "source": [
    "Copy the [sample.set_env.sh](./sample.set_env.sh) into a new file `set_env.sh`.\n",
    "\n",
    "Edit the secrets to the appropriate values."
   ]
  },
  {
   "cell_type": "markdown",
   "metadata": {},
   "source": [
    "## Setup the AWS Project resources"
   ]
  },
  {
   "cell_type": "markdown",
   "metadata": {},
   "source": [
    "Set up:\n",
    "\n",
    "* The RDS (database)\n",
    "* The S3 bucket (file storage)\n",
    "\n",
    "Use CloudFormation to make it easier to handle all the related resources together.\n",
    "\n",
    "Here is the resources dependency graph:\n",
    "\n",
    "![Resources Dependency Graph](./screenshots/resources-dependency-graph.png)"
   ]
  },
  {
   "cell_type": "code",
   "execution_count": 11,
   "metadata": {},
   "outputs": [
    {
     "name": "stdout",
     "output_type": "stream",
     "text": [
      "{\n",
      "    \"StackId\": \"arn:aws:cloudformation:us-east-1:549763406380:stack/mono-to-micro-project/da417c70-0fb7-11ed-883f-0ecf4ce8ae87\"\n",
      "}\n"
     ]
    }
   ],
   "source": [
    "%%bash\n",
    "source ./set_env.sh\n",
    "aws cloudformation create-stack \\\n",
    "  --template-body file://mono-to-micro-template.json \\\n",
    "  --parameters ParameterKey=DBPassword,ParameterValue=$POSTGRES_PASSWORD \\\n",
    "    ParameterKey=DBUsername,ParameterValue=$POSTGRES_USERNAME \\\n",
    "  --stack-name mono-to-micro-project"
   ]
  },
  {
   "cell_type": "code",
   "execution_count": 8,
   "metadata": {},
   "outputs": [
    {
     "data": {
      "text/plain": [
       "['{',\n",
       " '    \"Stacks\": [',\n",
       " '        {',\n",
       " '            \"StackId\": \"arn:aws:cloudformation:us-east-1:549763406380:stack/mono-to-micro-project/da417c70-0fb7-11ed-883f-0ecf4ce8ae87\",',\n",
       " '            \"StackName\": \"mono-to-micro-project\",',\n",
       " '            \"Parameters\": [',\n",
       " '                {',\n",
       " '                    \"ParameterKey\": \"DBPassword\",',\n",
       " '                    \"ParameterValue\": \"****\"',\n",
       " '                },',\n",
       " '                {',\n",
       " '                    \"ParameterKey\": \"DBUsername\",',\n",
       " '                    \"ParameterValue\": \"****\"',\n",
       " '                }',\n",
       " '            ],',\n",
       " '            \"CreationTime\": \"2022-07-30T03:29:43.401000+00:00\",',\n",
       " '            \"RollbackConfiguration\": {},',\n",
       " '            \"StackStatus\": \"CREATE_COMPLETE\",',\n",
       " '            \"DisableRollback\": false,',\n",
       " '            \"NotificationARNs\": [],',\n",
       " '            \"Outputs\": [',\n",
       " '                {',\n",
       " '                    \"OutputKey\": \"BucketName\",',\n",
       " '                    \"OutputValue\": \"mono-to-micro-project-s3bucket-sf67os5rjm6b\",',\n",
       " '                    \"Description\": \"The S3 Bucket created.\"',\n",
       " '                },',\n",
       " '                {',\n",
       " '                    \"OutputKey\": \"DBEndpoint\",',\n",
       " '                    \"OutputValue\": \"mr1fm3a15zjrrvp.crxb2aefz7m1.us-east-1.rds.amazonaws.com\",',\n",
       " '                    \"Description\": \"The database address\"',\n",
       " '                },',\n",
       " '                {',\n",
       " '                    \"OutputKey\": \"DBPort\",',\n",
       " '                    \"OutputValue\": \"5432\",',\n",
       " '                    \"Description\": \"The database port\"',\n",
       " '                }',\n",
       " '            ],',\n",
       " '            \"Tags\": [],',\n",
       " '            \"EnableTerminationProtection\": false,',\n",
       " '            \"DriftInformation\": {',\n",
       " '                \"StackDriftStatus\": \"NOT_CHECKED\"',\n",
       " '            }',\n",
       " '        }',\n",
       " '    ]',\n",
       " '}']"
      ]
     },
     "execution_count": 8,
     "metadata": {},
     "output_type": "execute_result"
    }
   ],
   "source": [
    "project_stack: SList = !aws cloudformation describe-stacks --stack-name mono-to-micro-project\n",
    "\n",
    "project_stack"
   ]
  },
  {
   "cell_type": "code",
   "execution_count": 9,
   "metadata": {},
   "outputs": [
    {
     "data": {
      "text/plain": [
       "{'Stacks': [{'StackId': 'arn:aws:cloudformation:us-east-1:549763406380:stack/mono-to-micro-project/da417c70-0fb7-11ed-883f-0ecf4ce8ae87',\n",
       "   'StackName': 'mono-to-micro-project',\n",
       "   'Parameters': [{'ParameterKey': 'DBPassword', 'ParameterValue': '****'},\n",
       "    {'ParameterKey': 'DBUsername', 'ParameterValue': '****'}],\n",
       "   'CreationTime': '2022-07-30T03:29:43.401000+00:00',\n",
       "   'RollbackConfiguration': {},\n",
       "   'StackStatus': 'CREATE_COMPLETE',\n",
       "   'DisableRollback': False,\n",
       "   'NotificationARNs': [],\n",
       "   'Outputs': [{'OutputKey': 'BucketName',\n",
       "     'OutputValue': 'mono-to-micro-project-s3bucket-sf67os5rjm6b',\n",
       "     'Description': 'The S3 Bucket created.'},\n",
       "    {'OutputKey': 'DBEndpoint',\n",
       "     'OutputValue': 'mr1fm3a15zjrrvp.crxb2aefz7m1.us-east-1.rds.amazonaws.com',\n",
       "     'Description': 'The database address'},\n",
       "    {'OutputKey': 'DBPort',\n",
       "     'OutputValue': '5432',\n",
       "     'Description': 'The database port'}],\n",
       "   'Tags': [],\n",
       "   'EnableTerminationProtection': False,\n",
       "   'DriftInformation': {'StackDriftStatus': 'NOT_CHECKED'}}]}"
      ]
     },
     "execution_count": 9,
     "metadata": {},
     "output_type": "execute_result"
    }
   ],
   "source": [
    "project_stack: dict = json.loads(project_stack.nlstr)\n",
    "project_stack"
   ]
  },
  {
   "cell_type": "code",
   "execution_count": 10,
   "metadata": {},
   "outputs": [
    {
     "data": {
      "text/plain": [
       "('mono-to-micro-project-s3bucket-sf67os5rjm6b',\n",
       " 'mr1fm3a15zjrrvp.crxb2aefz7m1.us-east-1.rds.amazonaws.com',\n",
       " '5432')"
      ]
     },
     "execution_count": 10,
     "metadata": {},
     "output_type": "execute_result"
    }
   ],
   "source": [
    "bucket_name, db_host, db_port = None, None, None\n",
    "for output in project_stack['Stacks'][0]['Outputs']:\n",
    "  if output['OutputKey'] == 'BucketName':\n",
    "    bucket_name = output['OutputValue']\n",
    "  elif output['OutputKey'] == 'DBEndpoint':\n",
    "    db_host = output['OutputValue']\n",
    "  elif output['OutputKey'] == 'DBPort':\n",
    "    db_port = output['OutputValue']\n",
    "    \n",
    "bucket_name, db_host, db_port"
   ]
  },
  {
   "cell_type": "markdown",
   "metadata": {},
   "source": [
    "## Containers"
   ]
  },
  {
   "cell_type": "markdown",
   "metadata": {},
   "source": [
    "Build the containers and push them to Docker Hub through a GitHub Action or Travis.\n",
    "\n",
    "![Successful Build](./screenshots/successful-build.png)\n",
    "\n",
    "![Docker Hub Images](./screenshots/docker-hub-images.png)"
   ]
  },
  {
   "cell_type": "markdown",
   "metadata": {},
   "source": [
    "## Create the Kubernetes Cluster"
   ]
  },
  {
   "cell_type": "code",
   "execution_count": 6,
   "metadata": {},
   "outputs": [
    {
     "name": "stdout",
     "output_type": "stream",
     "text": [
      "2022-07-30 06:32:37 [ℹ]  eksctl version 0.107.0\n",
      "2022-07-30 06:32:37 [ℹ]  using region us-east-1\n",
      "2022-07-30 06:32:39 [ℹ]  skipping us-east-1e from selection because it doesn't support the following instance type(s): m5.large\n",
      "2022-07-30 06:32:39 [ℹ]  setting availability zones to [us-east-1f us-east-1a]\n",
      "2022-07-30 06:32:39 [ℹ]  subnets for us-east-1f - public:192.168.0.0/19 private:192.168.64.0/19\n",
      "2022-07-30 06:32:39 [ℹ]  subnets for us-east-1a - public:192.168.32.0/19 private:192.168.96.0/19\n",
      "2022-07-30 06:32:39 [ℹ]  nodegroup \"ng-6db8eac3\" will use \"\" [AmazonLinux2/1.22]\n",
      "2022-07-30 06:32:39 [ℹ]  using Kubernetes version 1.22\n",
      "2022-07-30 06:32:39 [ℹ]  creating EKS cluster \"monoToMicroProject\" in \"us-east-1\" region with managed nodes\n",
      "2022-07-30 06:32:39 [ℹ]  will create 2 separate CloudFormation stacks for cluster itself and the initial managed nodegroup\n",
      "2022-07-30 06:32:39 [ℹ]  if you encounter any issues, check CloudFormation console or try 'eksctl utils describe-stacks --region=us-east-1 --cluster=monoToMicroProject'\n",
      "2022-07-30 06:32:39 [ℹ]  Kubernetes API endpoint access will use default of {publicAccess=true, privateAccess=false} for cluster \"monoToMicroProject\" in \"us-east-1\"\n",
      "2022-07-30 06:32:39 [ℹ]  CloudWatch logging will not be enabled for cluster \"monoToMicroProject\" in \"us-east-1\"\n",
      "2022-07-30 06:32:39 [ℹ]  you can enable it with 'eksctl utils update-cluster-logging --enable-types={SPECIFY-YOUR-LOG-TYPES-HERE (e.g. all)} --region=us-east-1 --cluster=monoToMicroProject'\n",
      "2022-07-30 06:32:39 [ℹ]  \n",
      "2 sequential tasks: { create cluster control plane \"monoToMicroProject\", \n",
      "    2 sequential sub-tasks: { \n",
      "        wait for control plane to become ready,\n",
      "        create managed nodegroup \"ng-6db8eac3\",\n",
      "    } \n",
      "}\n",
      "2022-07-30 06:32:39 [ℹ]  building cluster stack \"eksctl-monoToMicroProject-cluster\"\n",
      "2022-07-30 06:33:01 [ℹ]  deploying stack \"eksctl-monoToMicroProject-cluster\"\n",
      "2022-07-30 06:33:31 [ℹ]  waiting for CloudFormation stack \"eksctl-monoToMicroProject-cluster\"\n",
      "2022-07-30 06:34:02 [ℹ]  waiting for CloudFormation stack \"eksctl-monoToMicroProject-cluster\"\n",
      "2022-07-30 06:35:04 [ℹ]  waiting for CloudFormation stack \"eksctl-monoToMicroProject-cluster\"\n",
      "2022-07-30 06:36:06 [ℹ]  waiting for CloudFormation stack \"eksctl-monoToMicroProject-cluster\"\n",
      "2022-07-30 06:37:08 [ℹ]  waiting for CloudFormation stack \"eksctl-monoToMicroProject-cluster\"\n",
      "2022-07-30 06:38:09 [ℹ]  waiting for CloudFormation stack \"eksctl-monoToMicroProject-cluster\"\n",
      "2022-07-30 06:39:11 [ℹ]  waiting for CloudFormation stack \"eksctl-monoToMicroProject-cluster\"\n",
      "2022-07-30 06:40:12 [ℹ]  waiting for CloudFormation stack \"eksctl-monoToMicroProject-cluster\"\n",
      "2022-07-30 06:41:14 [ℹ]  waiting for CloudFormation stack \"eksctl-monoToMicroProject-cluster\"\n",
      "2022-07-30 06:42:15 [ℹ]  waiting for CloudFormation stack \"eksctl-monoToMicroProject-cluster\"\n",
      "2022-07-30 06:43:31 [ℹ]  waiting for CloudFormation stack \"eksctl-monoToMicroProject-cluster\"\n",
      "2022-07-30 06:45:55 [ℹ]  building managed nodegroup stack \"eksctl-monoToMicroProject-nodegroup-ng-6db8eac3\"\n",
      "2022-07-30 06:45:57 [ℹ]  deploying stack \"eksctl-monoToMicroProject-nodegroup-ng-6db8eac3\"\n",
      "2022-07-30 06:45:57 [ℹ]  waiting for CloudFormation stack \"eksctl-monoToMicroProject-nodegroup-ng-6db8eac3\"\n",
      "2022-07-30 06:46:28 [ℹ]  waiting for CloudFormation stack \"eksctl-monoToMicroProject-nodegroup-ng-6db8eac3\"\n",
      "2022-07-30 06:47:14 [ℹ]  waiting for CloudFormation stack \"eksctl-monoToMicroProject-nodegroup-ng-6db8eac3\"\n",
      "2022-07-30 06:47:50 [ℹ]  waiting for CloudFormation stack \"eksctl-monoToMicroProject-nodegroup-ng-6db8eac3\"\n",
      "2022-07-30 06:49:09 [ℹ]  waiting for CloudFormation stack \"eksctl-monoToMicroProject-nodegroup-ng-6db8eac3\"\n",
      "2022-07-30 06:49:09 [ℹ]  waiting for the control plane availability...\n",
      "2022-07-30 06:49:10 [✔]  saved kubeconfig as \"/Users/inventrohyder/.kube/config\"\n",
      "2022-07-30 06:49:10 [ℹ]  no tasks\n",
      "2022-07-30 06:49:10 [✔]  all EKS cluster resources for \"monoToMicroProject\" have been created\n",
      "2022-07-30 06:49:12 [ℹ]  nodegroup \"ng-6db8eac3\" has 2 node(s)\n",
      "2022-07-30 06:49:12 [ℹ]  node \"ip-192-168-28-69.ec2.internal\" is ready\n",
      "2022-07-30 06:49:12 [ℹ]  node \"ip-192-168-41-216.ec2.internal\" is ready\n",
      "2022-07-30 06:49:12 [ℹ]  waiting for at least 2 node(s) to become ready in \"ng-6db8eac3\"\n",
      "2022-07-30 06:49:12 [ℹ]  nodegroup \"ng-6db8eac3\" has 2 node(s)\n",
      "2022-07-30 06:49:12 [ℹ]  node \"ip-192-168-28-69.ec2.internal\" is ready\n",
      "2022-07-30 06:49:12 [ℹ]  node \"ip-192-168-41-216.ec2.internal\" is ready\n",
      "2022-07-30 06:49:15 [ℹ]  kubectl command should work with \"/Users/inventrohyder/.kube/config\", try 'kubectl get nodes'\n",
      "2022-07-30 06:49:15 [✔]  EKS cluster \"monoToMicroProject\" in \"us-east-1\" region is ready\n"
     ]
    }
   ],
   "source": [
    "%%bash\n",
    "eksctl create cluster \\\n",
    "  --name monoToMicroProject \\\n",
    "  --region=us-east-1 \\\n",
    "  --nodes-min=2 \\\n",
    "  --nodes-max=3"
   ]
  },
  {
   "cell_type": "code",
   "execution_count": 7,
   "metadata": {},
   "outputs": [
    {
     "name": "stdout",
     "output_type": "stream",
     "text": [
      "NAME                             STATUS   ROLES    AGE   VERSION\n",
      "ip-192-168-28-69.ec2.internal    Ready    <none>   82s   v1.22.9-eks-810597c\n",
      "ip-192-168-41-216.ec2.internal   Ready    <none>   78s   v1.22.9-eks-810597c\n"
     ]
    }
   ],
   "source": [
    "%%bash\n",
    "kubectl get nodes"
   ]
  },
  {
   "cell_type": "markdown",
   "metadata": {},
   "source": [
    "## Kubernetes Configs and Secrets"
   ]
  },
  {
   "cell_type": "code",
   "execution_count": 12,
   "metadata": {},
   "outputs": [
    {
     "name": "stdout",
     "output_type": "stream",
     "text": [
      "secret/app-aws-secret created\n"
     ]
    }
   ],
   "source": [
    "%%bash\n",
    "kubectl apply -f aws-secret.yml"
   ]
  },
  {
   "cell_type": "code",
   "execution_count": 14,
   "metadata": {},
   "outputs": [
    {
     "name": "stdout",
     "output_type": "stream",
     "text": [
      "secret/app-secret created\n"
     ]
    }
   ],
   "source": [
    "%%bash\n",
    "kubectl apply -f env-secret.yml"
   ]
  },
  {
   "cell_type": "code",
   "execution_count": 13,
   "metadata": {},
   "outputs": [
    {
     "name": "stdout",
     "output_type": "stream",
     "text": [
      "configmap/app-config created\n"
     ]
    }
   ],
   "source": [
    "%%bash\n",
    "kubectl apply -f env-configmap.yml"
   ]
  },
  {
   "cell_type": "markdown",
   "metadata": {},
   "source": [
    "## Kubernetes Deployment And Services"
   ]
  },
  {
   "cell_type": "code",
   "execution_count": 20,
   "metadata": {},
   "outputs": [
    {
     "name": "stdout",
     "output_type": "stream",
     "text": [
      "deployment.apps/backend-user created\n",
      "deployment.apps/backend-feed created\n",
      "deployment.apps/reverseproxy created\n",
      "deployment.apps/frontend created\n",
      "service/backend-user created\n",
      "service/backend-feed created\n",
      "service/reverseproxy created\n",
      "service/frontend created\n"
     ]
    }
   ],
   "source": [
    "%%bash\n",
    "kubectl apply -f deployments.yml\n",
    "kubectl apply -f services.yml"
   ]
  },
  {
   "cell_type": "code",
   "execution_count": 22,
   "metadata": {},
   "outputs": [
    {
     "name": "stdout",
     "output_type": "stream",
     "text": [
      "NAME                           READY   STATUS    RESTARTS      AGE\n",
      "backend-feed-98dcfd6f9-lmwfs   1/1     Running   0             70s\n",
      "backend-feed-98dcfd6f9-xj29c   1/1     Running   0             70s\n",
      "backend-user-7996d768b-dqxhr   1/1     Running   0             72s\n",
      "frontend-5db874bddf-6trb5      1/1     Running   0             67s\n",
      "reverseproxy-89cf96df6-7c7jr   1/1     Running   2 (66s ago)   68s\n"
     ]
    }
   ],
   "source": [
    "%%bash\n",
    "kubectl get pods"
   ]
  },
  {
   "cell_type": "code",
   "execution_count": 23,
   "metadata": {},
   "outputs": [
    {
     "name": "stdout",
     "output_type": "stream",
     "text": [
      "Name:              backend-feed\n",
      "Namespace:         default\n",
      "Labels:            <none>\n",
      "Annotations:       <none>\n",
      "Selector:          app=backend-feed\n",
      "Type:              ClusterIP\n",
      "IP Family Policy:  SingleStack\n",
      "IP Families:       IPv4\n",
      "IP:                10.100.248.101\n",
      "IPs:               10.100.248.101\n",
      "Port:              <unset>  8080/TCP\n",
      "TargetPort:        8080/TCP\n",
      "Endpoints:         192.168.24.9:8080,192.168.33.126:8080\n",
      "Session Affinity:  None\n",
      "Events:            <none>\n",
      "\n",
      "\n",
      "Name:              backend-user\n",
      "Namespace:         default\n",
      "Labels:            <none>\n",
      "Annotations:       <none>\n",
      "Selector:          app=backend-user\n",
      "Type:              ClusterIP\n",
      "IP Family Policy:  SingleStack\n",
      "IP Families:       IPv4\n",
      "IP:                10.100.42.118\n",
      "IPs:               10.100.42.118\n",
      "Port:              <unset>  8080/TCP\n",
      "TargetPort:        8080/TCP\n",
      "Endpoints:         192.168.34.133:8080\n",
      "Session Affinity:  None\n",
      "Events:            <none>\n",
      "\n",
      "\n",
      "Name:              frontend\n",
      "Namespace:         default\n",
      "Labels:            <none>\n",
      "Annotations:       <none>\n",
      "Selector:          app=frontend\n",
      "Type:              ClusterIP\n",
      "IP Family Policy:  SingleStack\n",
      "IP Families:       IPv4\n",
      "IP:                10.100.118.30\n",
      "IPs:               10.100.118.30\n",
      "Port:              <unset>  8100/TCP\n",
      "TargetPort:        80/TCP\n",
      "Endpoints:         192.168.39.101:80\n",
      "Session Affinity:  None\n",
      "Events:            <none>\n",
      "\n",
      "\n",
      "Name:              kubernetes\n",
      "Namespace:         default\n",
      "Labels:            component=apiserver\n",
      "                   provider=kubernetes\n",
      "Annotations:       <none>\n",
      "Selector:          <none>\n",
      "Type:              ClusterIP\n",
      "IP Family Policy:  SingleStack\n",
      "IP Families:       IPv4\n",
      "IP:                10.100.0.1\n",
      "IPs:               10.100.0.1\n",
      "Port:              https  443/TCP\n",
      "TargetPort:        443/TCP\n",
      "Endpoints:         192.168.127.66:443,192.168.68.182:443\n",
      "Session Affinity:  None\n",
      "Events:            <none>\n",
      "\n",
      "\n",
      "Name:              reverseproxy\n",
      "Namespace:         default\n",
      "Labels:            <none>\n",
      "Annotations:       <none>\n",
      "Selector:          app=reverseproxy\n",
      "Type:              ClusterIP\n",
      "IP Family Policy:  SingleStack\n",
      "IP Families:       IPv4\n",
      "IP:                10.100.164.39\n",
      "IPs:               10.100.164.39\n",
      "Port:              <unset>  8080/TCP\n",
      "TargetPort:        8080/TCP\n",
      "Endpoints:         192.168.14.185:8080\n",
      "Session Affinity:  None\n",
      "Events:            <none>\n"
     ]
    }
   ],
   "source": [
    "%%bash\n",
    "kubectl describe services"
   ]
  },
  {
   "cell_type": "markdown",
   "metadata": {},
   "source": [
    "## Port Forwarding"
   ]
  },
  {
   "cell_type": "code",
   "execution_count": 24,
   "metadata": {},
   "outputs": [
    {
     "name": "stdout",
     "output_type": "stream",
     "text": [
      "Forwarding from 127.0.0.1:8100 -> 80\n",
      "Forwarding from [::1]:8100 -> 80\n",
      "Forwarding from 127.0.0.1:8080 -> 8080\n",
      "Forwarding from [::1]:8080 -> 8080\n",
      "Handling connection for 8100\n",
      "Handling connection for 8080\n",
      "Process is interrupted.\n"
     ]
    }
   ],
   "source": [
    "%%bash\n",
    "kubectl port-forward service/reverseproxy 8080:8080 &\n",
    "kubectl port-forward service/frontend 8100:8100 &"
   ]
  },
  {
   "cell_type": "markdown",
   "metadata": {},
   "source": [
    "![Port Forwarding](./screenshots/port-forward.png)"
   ]
  },
  {
   "cell_type": "markdown",
   "metadata": {},
   "source": [
    "## Expose External IP"
   ]
  },
  {
   "cell_type": "code",
   "execution_count": 25,
   "metadata": {},
   "outputs": [
    {
     "name": "stdout",
     "output_type": "stream",
     "text": [
      "service/publicfrontend exposed\n",
      "service/publicreverseproxy exposed\n"
     ]
    }
   ],
   "source": [
    "%%bash\n",
    "kubectl expose deployment frontend \\\n",
    "  --type=LoadBalancer \\\n",
    "  --name=publicfrontend\n",
    "kubectl expose deployment reverseproxy \\\n",
    "  --type=LoadBalancer \\\n",
    "  --name=publicreverseproxy"
   ]
  },
  {
   "cell_type": "code",
   "execution_count": 26,
   "metadata": {},
   "outputs": [
    {
     "name": "stdout",
     "output_type": "stream",
     "text": [
      "NAME                 TYPE           CLUSTER-IP       EXTERNAL-IP                                                               PORT(S)          AGE\n",
      "backend-feed         ClusterIP      10.100.248.101   <none>                                                                    8080/TCP         12m\n",
      "backend-user         ClusterIP      10.100.42.118    <none>                                                                    8080/TCP         12m\n",
      "frontend             ClusterIP      10.100.118.30    <none>                                                                    8100/TCP         11m\n",
      "kubernetes           ClusterIP      10.100.0.1       <none>                                                                    443/TCP          36m\n",
      "publicfrontend       LoadBalancer   10.100.144.230   a139e703429fe46d2ada67281d885a44-1684113403.us-east-1.elb.amazonaws.com   80:31120/TCP     16s\n",
      "publicreverseproxy   LoadBalancer   10.100.245.21    a59bb9bc6089c4fc98aba3844413e93e-1738954430.us-east-1.elb.amazonaws.com   8080:30046/TCP   14s\n",
      "reverseproxy         ClusterIP      10.100.164.39    <none>                                                                    8080/TCP         11m\n"
     ]
    }
   ],
   "source": [
    "%%bash\n",
    "kubectl get services"
   ]
  },
  {
   "cell_type": "markdown",
   "metadata": {},
   "source": [
    "### Rebuild Frontend"
   ]
  },
  {
   "cell_type": "markdown",
   "metadata": {},
   "source": [
    "Using the exposed IPs, we replace them in the frontend environment files, then rebuild the images."
   ]
  },
  {
   "cell_type": "code",
   "execution_count": 27,
   "metadata": {},
   "outputs": [
    {
     "name": "stderr",
     "output_type": "stream",
     "text": [
      "#1 [internal] load build definition from Dockerfile\n",
      "#1 sha256:9230c9cfd40bf868f9962ea253f7c36c25ba09b521909083950cff4ea958521b\n",
      "#1 transferring dockerfile: 37B 0.0s done\n",
      "#1 DONE 0.1s\n",
      "\n",
      "#2 [internal] load .dockerignore\n",
      "#2 sha256:1cb8d35d5ea853a7c7d4b9be7dc5ee9d4408ac0903365941be9f40c6501abb5a\n",
      "#2 transferring context: 34B done\n",
      "#2 DONE 0.1s\n",
      "\n",
      "#4 [internal] load metadata for docker.io/library/nginx:alpine\n",
      "#4 sha256:b001d263a254f0e4960d52c837d5764774ef80ad3878c61304052afb6e0e9af2\n",
      "#4 ...\n",
      "\n",
      "#5 [auth] library/nginx:pull token for registry-1.docker.io\n",
      "#5 sha256:30e4b7261d14bc754ee85f53b40a4879e03a5f3fd17da3cb8a59db7f742e0981\n",
      "#5 DONE 0.0s\n",
      "\n",
      "#6 [auth] beevelop/ionic:pull token for registry-1.docker.io\n",
      "#6 sha256:c56636257da5b2836ff5cc204093bad6c5fdac7dbbcc6858f7fdf0a72eb1c423\n",
      "#6 DONE 0.0s\n",
      "\n",
      "#3 [internal] load metadata for docker.io/beevelop/ionic:latest\n",
      "#3 sha256:d4fa3a78ea0cdaa66ae5f73c6b8f351740f3988c736a74f62d31395d623ec9c3\n",
      "#3 DONE 4.8s\n",
      "\n",
      "#4 [internal] load metadata for docker.io/library/nginx:alpine\n",
      "#4 sha256:b001d263a254f0e4960d52c837d5764774ef80ad3878c61304052afb6e0e9af2\n",
      "#4 DONE 4.8s\n",
      "\n",
      "#7 [stage-1 1/2] FROM docker.io/library/nginx:alpine@sha256:9c2030e1ff2c3fef7440a7fb69475553e548b9685683bdbf669ac0829b889d5f\n",
      "#7 sha256:4d19b192ba78618878a8774181f2aa16be7f030005eb940f7d5d8ff91527d1d9\n",
      "#7 DONE 0.0s\n",
      "\n",
      "#8 [ionic 1/6] FROM docker.io/beevelop/ionic:latest@sha256:c43687a2f695a2e41b6210603e9c532c43a9f64d5b9fe86de9e0d21091d654d4\n",
      "#8 sha256:bb81c8520e962aae533542bf0db6b1fb023595f427ff29d27f08c45cec1f58ef\n",
      "#8 resolve docker.io/beevelop/ionic:latest@sha256:c43687a2f695a2e41b6210603e9c532c43a9f64d5b9fe86de9e0d21091d654d4 done\n",
      "#8 DONE 0.0s\n",
      "\n",
      "#10 [internal] load build context\n",
      "#10 sha256:9664875c038c81e44a8409b8712d17f9ed846440f6c34a98c6ffe86a1b077ee2\n",
      "#10 transferring context: 32B\n",
      "#10 transferring context: 200.35kB 1.1s done\n",
      "#10 DONE 1.1s\n",
      "\n",
      "#9 [ionic 2/6] WORKDIR /usr/src/app\n",
      "#9 sha256:bc9ffba463092d1e89982bd9203b6489e5551cfe352bacecbabca2998526b147\n",
      "#9 CACHED\n",
      "\n",
      "#11 [ionic 3/6] COPY package*.json ./\n",
      "#11 sha256:d4f3bf6d2846bfb3ca3207917e11fdb5a5a3abbcf60b9f20007e07523c1576af\n",
      "#11 CACHED\n",
      "\n",
      "#12 [ionic 4/6] RUN npm ci\n",
      "#12 sha256:8bb995c87774345d8b46cca7a6b9c817eca6b9e8131fc19cc28f740dc1003bd9\n",
      "#12 CACHED\n",
      "\n",
      "#13 [ionic 5/6] COPY . .\n",
      "#13 sha256:017bbd09f0617d9a2ea9eb466aefb5b7361f76ff87187efd28529e8474db685d\n",
      "#13 DONE 8.7s\n",
      "\n",
      "#14 [ionic 6/6] RUN ionic build\n",
      "#14 sha256:4af0c461c5310fe43fa81fa5b39391035feac599b090ace33f600e87fb2f6b9f\n",
      "#14 14.80 > ng run app:build\n",
      "#14 184.0 \n",
      "#14 184.0 chunk {0} 0.js, 0.js.map () 15.4 kB  [rendered]\n",
      "#14 184.0 chunk {1} 1.js, 1.js.map () 15.2 kB  [rendered]\n",
      "#14 184.0 chunk {2} 2.js, 2.js.map () 16.3 kB  [rendered]\n",
      "#14 184.0 chunk {3} 3.js, 3.js.map () 21.8 kB  [rendered]\n",
      "#14 184.0 chunk {4} 4.js, 4.js.map () 18.9 kB  [rendered]\n",
      "#14 184.0 chunk {5} 5.js, 5.js.map () 32.5 kB  [rendered]\n",
      "#14 184.0 chunk {6} 6.js, 6.js.map () 32.5 kB  [rendered]\n",
      "#14 184.0 chunk {7} 7.js, 7.js.map () 70.3 kB  [rendered]\n",
      "#14 184.0 chunk {8} 8.js, 8.js.map () 69.1 kB  [rendered]\n",
      "#14 184.0 chunk {9} 9.js, 9.js.map () 5.19 kB  [rendered]\n",
      "#14 184.0 chunk {10} 10.js, 10.js.map () 5.24 kB  [rendered]\n",
      "#14 184.0 chunk {11} 11.js, 11.js.map () 11.3 kB  [rendered]\n",
      "#14 184.0 chunk {12} 12.js, 12.js.map () 11.9 kB  [rendered]\n",
      "#14 184.0 chunk {13} 13.js, 13.js.map () 4.12 kB  [rendered]\n",
      "#14 184.0 chunk {14} 14.js, 14.js.map () 4.11 kB  [rendered]\n",
      "#14 184.0 chunk {15} 15.js, 15.js.map () 24.4 kB  [rendered]\n",
      "#14 184.0 chunk {16} 16.js, 16.js.map () 24.6 kB  [rendered]\n",
      "#14 184.0 chunk {17} 17.js, 17.js.map () 13.2 kB  [rendered]\n",
      "#14 184.0 chunk {18} 18.js, 18.js.map () 12.8 kB  [rendered]\n",
      "#14 184.0 chunk {19} 19.js, 19.js.map () 9.27 kB  [rendered]\n",
      "#14 184.0 chunk {20} 20.js, 20.js.map () 9.39 kB  [rendered]\n",
      "#14 184.0 chunk {21} 21.js, 21.js.map () 5.84 kB  [rendered]\n",
      "#14 184.0 chunk {22} 22.js, 22.js.map () 5.84 kB  [rendered]\n",
      "#14 184.0 chunk {23} 23.js, 23.js.map () 16.9 kB  [rendered]\n",
      "#14 184.0 chunk {24} 24.js, 24.js.map () 73 kB  [rendered]\n",
      "#14 184.0 chunk {25} 25.js, 25.js.map () 72.6 kB  [rendered]\n",
      "#14 184.0 chunk {26} 26.js, 26.js.map () 21.2 kB  [rendered]\n",
      "#14 184.0 chunk {27} 27.js, 27.js.map () 20.3 kB  [rendered]\n",
      "#14 184.0 chunk {28} 28.js, 28.js.map () 4.1 kB  [rendered]\n",
      "#14 184.0 chunk {29} 29.js, 29.js.map () 15.1 kB  [rendered]\n",
      "#14 184.0 chunk {30} 30.js, 30.js.map () 15.1 kB  [rendered]\n",
      "#14 184.0 chunk {31} 31.js, 31.js.map () 15.9 kB  [rendered]\n",
      "#14 184.0 chunk {32} 32.js, 32.js.map () 15.7 kB  [rendered]\n",
      "#14 184.0 chunk {33} 33.js, 33.js.map () 31.1 kB  [rendered]\n",
      "#14 184.0 chunk {34} 34.js, 34.js.map () 30.9 kB  [rendered]\n",
      "#14 184.0 chunk {35} 35.js, 35.js.map () 42.8 kB  [rendered]\n",
      "#14 184.0 chunk {36} 36.js, 36.js.map () 46.4 kB  [rendered]\n",
      "#14 184.0 chunk {37} 37.js, 37.js.map () 14.2 kB  [rendered]\n",
      "#14 184.0 chunk {38} 38.js, 38.js.map () 13.9 kB  [rendered]\n",
      "#14 184.0 chunk {39} 39.js, 39.js.map () 40.4 kB  [rendered]\n",
      "#14 184.0 chunk {40} 40.js, 40.js.map () 40.5 kB  [rendered]\n",
      "#14 184.0 chunk {41} 41.js, 41.js.map () 16.8 kB  [rendered]\n",
      "#14 184.0 chunk {42} 42.js, 42.js.map () 16.8 kB  [rendered]\n",
      "#14 184.0 chunk {43} 43.js, 43.js.map () 45.2 kB  [rendered]\n",
      "#14 184.0 chunk {44} 44.js, 44.js.map () 22.2 kB  [rendered]\n",
      "#14 184.0 chunk {45} 45.js, 45.js.map () 21.5 kB  [rendered]\n",
      "#14 184.0 chunk {46} 46.js, 46.js.map () 12.9 kB  [rendered]\n",
      "#14 184.0 chunk {47} 47.js, 47.js.map () 12.9 kB  [rendered]\n",
      "#14 184.0 chunk {48} 48.js, 48.js.map () 15 kB  [rendered]\n",
      "#14 184.0 chunk {49} 49.js, 49.js.map () 15.2 kB  [rendered]\n",
      "#14 184.0 chunk {50} 50.js, 50.js.map () 23.6 kB  [rendered]\n",
      "#14 184.0 chunk {51} 51.js, 51.js.map () 25 kB  [rendered]\n",
      "#14 184.0 chunk {52} 52.js, 52.js.map () 21.2 kB  [rendered]\n",
      "#14 184.0 chunk {53} 53.js, 53.js.map () 21.2 kB  [rendered]\n",
      "#14 184.0 chunk {54} 54.js, 54.js.map () 14.8 kB  [rendered]\n",
      "#14 184.0 chunk {55} 55.js, 55.js.map () 14.8 kB  [rendered]\n",
      "#14 184.0 chunk {56} 56.js, 56.js.map () 7.88 kB  [rendered]\n",
      "#14 184.0 chunk {57} 57.js, 57.js.map () 32.8 kB  [rendered]\n",
      "#14 184.0 chunk {58} 58.js, 58.js.map () 27.9 kB  [rendered]\n",
      "#14 184.0 chunk {59} 59.js, 59.js.map () 25.4 kB  [rendered]\n",
      "#14 184.0 chunk {60} 60.js, 60.js.map () 17.2 kB  [rendered]\n",
      "#14 184.0 chunk {61} 61.js, 61.js.map () 16.8 kB  [rendered]\n",
      "#14 184.0 chunk {62} 62.js, 62.js.map () 27 kB  [rendered]\n",
      "#14 184.0 chunk {63} 63.js, 63.js.map () 27 kB  [rendered]\n",
      "#14 184.0 chunk {64} 64.js, 64.js.map () 47.2 kB  [rendered]\n",
      "#14 184.0 chunk {65} 65.js, 65.js.map () 47.2 kB  [rendered]\n",
      "#14 184.0 chunk {66} 66.js, 66.js.map () 10.9 kB  [rendered]\n",
      "#14 184.0 chunk {67} 67.js, 67.js.map () 7.74 kB  [rendered]\n",
      "#14 184.0 chunk {68} 68.js, 68.js.map () 7.74 kB  [rendered]\n",
      "#14 184.0 chunk {69} 69.js, 69.js.map () 16 kB  [rendered]\n",
      "#14 184.0 chunk {70} 70.js, 70.js.map () 16.2 kB  [rendered]\n",
      "#14 184.0 chunk {71} 71.js, 71.js.map () 2.06 kB  [rendered]\n",
      "#14 184.0 chunk {72} 72.js, 72.js.map () 13.9 kB  [rendered]\n",
      "#14 184.0 chunk {73} 73.js, 73.js.map () 13.9 kB  [rendered]\n",
      "#14 184.0 chunk {74} 74.js, 74.js.map () 20.8 kB  [rendered]\n",
      "#14 184.0 chunk {75} 75.js, 75.js.map () 21.3 kB  [rendered]\n",
      "#14 184.0 chunk {76} 76.js, 76.js.map () 12.9 kB  [rendered]\n",
      "#14 184.0 chunk {77} 77.js, 77.js.map () 12.8 kB  [rendered]\n",
      "#14 184.0 chunk {78} 78.js, 78.js.map () 23.3 kB  [rendered]\n",
      "#14 184.0 chunk {common} common.js, common.js.map (common) 14.7 kB  [rendered]\n",
      "#14 184.0 chunk {core-js-js} core-js-js.js, core-js-js.js.map (core-js-js) 78.7 kB  [rendered]\n",
      "#14 184.0 chunk {css-shim-206ea950-3169f23e-js} css-shim-206ea950-3169f23e-js.js, css-shim-206ea950-3169f23e-js.js.map (css-shim-206ea950-3169f23e-js) 21.9 kB  [rendered]\n",
      "#14 184.0 chunk {dom-96781eef-a2fb04dd-js} dom-96781eef-a2fb04dd-js.js, dom-96781eef-a2fb04dd-js.js.map (dom-96781eef-a2fb04dd-js) 27.7 kB  [rendered]\n",
      "#14 184.0 chunk {dom-js} dom-js.js, dom-js.js.map (dom-js) 20.2 kB  [rendered]\n",
      "#14 184.0 chunk {focus-visible-70713a0c-js} focus-visible-70713a0c-js.js, focus-visible-70713a0c-js.js.map (focus-visible-70713a0c-js) 2.19 kB  [rendered]\n",
      "#14 184.0 chunk {hardware-back-button-5afe3cb0-js} hardware-back-button-5afe3cb0-js.js, hardware-back-button-5afe3cb0-js.js.map (hardware-back-button-5afe3cb0-js) 2.87 kB  [rendered]\n",
      "#14 184.0 chunk {home-home-module} home-home-module.js, home-home-module.js.map (home-home-module) 35.5 kB  [rendered]\n",
      "#14 184.0 chunk {index-69c37885-js} index-69c37885-js.js, index-69c37885-js.js.map (index-69c37885-js) 41.9 kB  [rendered]\n",
      "#14 184.0 chunk {input-shims-a4fc53ac-js} input-shims-a4fc53ac-js.js, input-shims-a4fc53ac-js.js.map (input-shims-a4fc53ac-js) 13.5 kB  [rendered]\n",
      "#14 184.0 chunk {ios-transition-504cdd09-js} ios-transition-504cdd09-js.js, ios-transition-504cdd09-js.js.map (ios-transition-504cdd09-js) 26.6 kB  [rendered]\n",
      "#14 184.0 chunk {main} main.js, main.js.map (main) 82.4 kB [initial] [rendered]\n",
      "#14 184.0 chunk {md-transition-fea2bbfb-js} md-transition-fea2bbfb-js.js, md-transition-fea2bbfb-js.js.map (md-transition-fea2bbfb-js) 3.91 kB  [rendered]\n",
      "#14 184.0 chunk {polyfills} polyfills.js, polyfills.js.map (polyfills) 316 kB [initial] [rendered]\n",
      "#14 184.0 chunk {polyfills-es5} polyfills-es5.js, polyfills-es5.js.map (polyfills-es5) 716 kB [initial] [rendered]\n",
      "#14 184.0 chunk {runtime} runtime.js, runtime.js.map (runtime) 9.77 kB [entry] [rendered]\n",
      "#14 184.0 chunk {shadow-css-4889ae62-23996f3f-js} shadow-css-4889ae62-23996f3f-js.js, shadow-css-4889ae62-23996f3f-js.js.map (shadow-css-4889ae62-23996f3f-js) 15.7 kB  [rendered]\n",
      "#14 184.0 chunk {status-tap-32c72c43-js} status-tap-32c72c43-js.js, status-tap-32c72c43-js.js.map (status-tap-32c72c43-js) 1.83 kB  [rendered]\n",
      "#14 184.0 chunk {styles} styles.js, styles.js.map (styles) 100 kB [initial] [rendered]\n",
      "#14 184.0 chunk {swipe-back-35ad8e37-js} swipe-back-35ad8e37-js.js, swipe-back-35ad8e37-js.js.map (swipe-back-35ad8e37-js) 2.67 kB  [rendered]\n",
      "#14 184.0 chunk {swiper-bundle-8bab85e6-js} swiper-bundle-8bab85e6-js.js, swiper-bundle-8bab85e6-js.js.map (swiper-bundle-8bab85e6-js) 213 kB  [rendered]\n",
      "#14 184.0 chunk {tap-click-ca00ce7f-js} tap-click-ca00ce7f-js.js, tap-click-ca00ce7f-js.js.map (tap-click-ca00ce7f-js) 6.32 kB  [rendered]\n",
      "#14 184.0 chunk {vendor} vendor.js, vendor.js.map (vendor) 4.66 MB [initial] [rendered]\n",
      "#14 184.0 Date: 2022-07-30T04:26:42.012Z - Hash: 98be75f36639c8fd905f - Time: 85548ms\n",
      "#14 DONE 197.0s\n",
      "\n",
      "#7 [stage-1 1/2] FROM docker.io/library/nginx:alpine@sha256:9c2030e1ff2c3fef7440a7fb69475553e548b9685683bdbf669ac0829b889d5f\n",
      "#7 sha256:4d19b192ba78618878a8774181f2aa16be7f030005eb940f7d5d8ff91527d1d9\n",
      "#7 CACHED\n",
      "\n",
      "#15 [stage-1 2/2] COPY --from=ionic /usr/src/app/www /usr/share/nginx/html\n",
      "#15 sha256:04f38b172b79b2cbd6f181bf8452a63503976c2f94c823f59d58d6524b61b665\n",
      "#15 DONE 0.4s\n",
      "\n",
      "#16 exporting to image\n",
      "#16 sha256:e8c613e07b0b7ff33893b694f7759a10d42e180f2b4dc349fb57dc6b71dcab00\n",
      "#16 exporting layers\n",
      "#16 exporting layers 0.3s done\n",
      "#16 writing image sha256:4237b006c01c6f59553be6520a34bd0223bf21070f3ba9f671383d446a4e1df4 done\n",
      "#16 naming to docker.io/inventrohyder/udagram-frontend:v1 done\n",
      "#16 DONE 0.3s\n"
     ]
    },
    {
     "name": "stdout",
     "output_type": "stream",
     "text": [
      "The push refers to repository [docker.io/inventrohyder/udagram-frontend]\n",
      "f95643413040: Preparing\n",
      "8dee52393d63: Preparing\n",
      "d6cde4e7f474: Preparing\n",
      "16669892469c: Preparing\n",
      "1adb146a1535: Preparing\n",
      "7e3d183a1226: Preparing\n",
      "ec34fcc1d526: Preparing\n",
      "7e3d183a1226: Waiting\n",
      "16669892469c: Layer already exists\n",
      "d6cde4e7f474: Layer already exists\n",
      "8dee52393d63: Layer already exists\n",
      "1adb146a1535: Layer already exists\n",
      "ec34fcc1d526: Layer already exists\n",
      "7e3d183a1226: Layer already exists\n",
      "f95643413040: Pushed\n",
      "v1: digest: sha256:b73ad991becfab89a4e27b9e6e148b8b27666d6566f4ac3cefe8c480e390f582 size: 1779\n"
     ]
    }
   ],
   "source": [
    "%%bash\n",
    "cd ./udagram-frontend\n",
    "docker build . -t inventrohyder/udagram-frontend:v1 --platform=linux/amd64\n",
    "docker push inventrohyder/udagram-frontend:v1"
   ]
  },
  {
   "cell_type": "markdown",
   "metadata": {},
   "source": [
    "Update the [env-configmap.yml](./env-configmap.yml) to have the exposed frontend url.\n",
    "Then load it."
   ]
  },
  {
   "cell_type": "code",
   "execution_count": 28,
   "metadata": {},
   "outputs": [
    {
     "name": "stdout",
     "output_type": "stream",
     "text": [
      "configmap/app-config configured\n"
     ]
    }
   ],
   "source": [
    "%%bash\n",
    "kubectl apply -f env-configmap.yml"
   ]
  },
  {
   "cell_type": "markdown",
   "metadata": {},
   "source": [
    "Update the Kubernetes image to match the new one."
   ]
  },
  {
   "cell_type": "code",
   "execution_count": 29,
   "metadata": {},
   "outputs": [
    {
     "name": "stdout",
     "output_type": "stream",
     "text": [
      "deployment.apps/frontend image updated\n"
     ]
    }
   ],
   "source": [
    "%%bash\n",
    "kubectl set image deployment frontend frontend=inventrohyder/udagram-frontend:v1"
   ]
  },
  {
   "cell_type": "code",
   "execution_count": 30,
   "metadata": {},
   "outputs": [
    {
     "name": "stdout",
     "output_type": "stream",
     "text": [
      "NAME                           READY   STATUS    RESTARTS      AGE\n",
      "backend-feed-98dcfd6f9-lmwfs   1/1     Running   0             25m\n",
      "backend-feed-98dcfd6f9-xj29c   1/1     Running   0             25m\n",
      "backend-user-7996d768b-dqxhr   1/1     Running   0             25m\n",
      "frontend-7bc4c74d-8h8cq        1/1     Running   0             41s\n",
      "reverseproxy-89cf96df6-7c7jr   1/1     Running   2 (25m ago)   25m\n"
     ]
    }
   ],
   "source": [
    "%%bash\n",
    "kubectl get pods"
   ]
  },
  {
   "cell_type": "markdown",
   "metadata": {},
   "source": [
    "![Exposed Endpoint Website](./screenshots/expose-endpoint.png)"
   ]
  },
  {
   "cell_type": "markdown",
   "metadata": {},
   "source": [
    "## Auto-scale"
   ]
  },
  {
   "cell_type": "markdown",
   "metadata": {},
   "source": [
    "### Deploy Metrics Server"
   ]
  },
  {
   "cell_type": "markdown",
   "metadata": {},
   "source": [
    "As described within the following resources, we need the metric server first before setting up\n",
    "a _Horizontal Pod Autoscaler_.\n",
    "\n",
    "* <https://docs.aws.amazon.com/eks/latest/userguide/metrics-server.html>\n",
    "* <https://docs.aws.amazon.com/eks/latest/userguide/horizontal-pod-autoscaler.html>"
   ]
  },
  {
   "cell_type": "code",
   "execution_count": 34,
   "metadata": {},
   "outputs": [
    {
     "name": "stdout",
     "output_type": "stream",
     "text": [
      "serviceaccount/metrics-server created\n",
      "clusterrole.rbac.authorization.k8s.io/system:aggregated-metrics-reader created\n",
      "clusterrole.rbac.authorization.k8s.io/system:metrics-server created\n",
      "rolebinding.rbac.authorization.k8s.io/metrics-server-auth-reader created\n",
      "clusterrolebinding.rbac.authorization.k8s.io/metrics-server:system:auth-delegator created\n",
      "clusterrolebinding.rbac.authorization.k8s.io/system:metrics-server created\n",
      "service/metrics-server created\n",
      "deployment.apps/metrics-server created\n",
      "apiservice.apiregistration.k8s.io/v1beta1.metrics.k8s.io created\n"
     ]
    }
   ],
   "source": [
    "%%bash\n",
    "kubectl apply \\\n",
    "  -f https://github.com/kubernetes-sigs/metrics-server/releases/latest/download/components.yaml"
   ]
  },
  {
   "cell_type": "markdown",
   "metadata": {},
   "source": [
    "Verify that the metrics server is running."
   ]
  },
  {
   "cell_type": "code",
   "execution_count": 39,
   "metadata": {},
   "outputs": [
    {
     "name": "stdout",
     "output_type": "stream",
     "text": [
      "NAME             READY   UP-TO-DATE   AVAILABLE   AGE\n",
      "metrics-server   1/1     1            1           68s\n"
     ]
    }
   ],
   "source": [
    "%%bash\n",
    "kubectl get deployment metrics-server -n kube-system"
   ]
  },
  {
   "cell_type": "code",
   "execution_count": 41,
   "metadata": {},
   "outputs": [
    {
     "name": "stdout",
     "output_type": "stream",
     "text": [
      "horizontalpodautoscaler.autoscaling/backend-user autoscaled\n",
      "horizontalpodautoscaler.autoscaling/backend-feed autoscaled\n"
     ]
    }
   ],
   "source": [
    "%%bash\n",
    "kubectl autoscale deployment backend-user \\\n",
    "  --cpu-percent=70 \\\n",
    "  --min=1 \\\n",
    "  --max=5\n",
    "kubectl autoscale deployment backend-feed \\\n",
    "  --cpu-percent=70 \\\n",
    "  --min=2 \\\n",
    "  --max=5"
   ]
  },
  {
   "cell_type": "code",
   "execution_count": 42,
   "metadata": {},
   "outputs": [
    {
     "name": "stdout",
     "output_type": "stream",
     "text": [
      "Name:                                                  backend-feed\n",
      "Namespace:                                             default\n",
      "Labels:                                                <none>\n",
      "Annotations:                                           <none>\n",
      "CreationTimestamp:                                     Sat, 30 Jul 2022 08:09:28 +0300\n",
      "Reference:                                             Deployment/backend-feed\n",
      "Metrics:                                               ( current / target )\n",
      "  resource cpu on pods  (as a percentage of request):  0% (0) / 70%\n",
      "Min replicas:                                          2\n",
      "Max replicas:                                          5\n",
      "Deployment pods:                                       2 current / 2 desired\n",
      "Conditions:\n",
      "  Type            Status  Reason            Message\n",
      "  ----            ------  ------            -------\n",
      "  AbleToScale     True    ReadyForNewScale  recommended size matches current size\n",
      "  ScalingActive   True    ValidMetricFound  the HPA was able to successfully calculate a replica count from cpu resource utilization (percentage of request)\n",
      "  ScalingLimited  True    TooFewReplicas    the desired replica count is less than the minimum replica count\n",
      "Events:\n",
      "  Type    Reason             Age   From                       Message\n",
      "  ----    ------             ----  ----                       -------\n",
      "  Normal  SuccessfulRescale  21s   horizontal-pod-autoscaler  New size: 2; reason: All metrics below target\n",
      "\n",
      "\n",
      "Name:                                                  backend-user\n",
      "Namespace:                                             default\n",
      "Labels:                                                <none>\n",
      "Annotations:                                           <none>\n",
      "CreationTimestamp:                                     Sat, 30 Jul 2022 08:09:26 +0300\n",
      "Reference:                                             Deployment/backend-user\n",
      "Metrics:                                               ( current / target )\n",
      "  resource cpu on pods  (as a percentage of request):  0% (0) / 70%\n",
      "Min replicas:                                          1\n",
      "Max replicas:                                          5\n",
      "Deployment pods:                                       3 current / 3 desired\n",
      "Conditions:\n",
      "  Type            Status  Reason               Message\n",
      "  ----            ------  ------               -------\n",
      "  AbleToScale     True    ScaleDownStabilized  recent recommendations were higher than current one, applying the highest recent recommendation\n",
      "  ScalingActive   True    ValidMetricFound     the HPA was able to successfully calculate a replica count from cpu resource utilization (percentage of request)\n",
      "  ScalingLimited  False   DesiredWithinRange   the desired count is within the acceptable range\n",
      "Events:           <none>\n"
     ]
    }
   ],
   "source": [
    "%%bash\n",
    "kubectl describe hpa"
   ]
  },
  {
   "cell_type": "markdown",
   "metadata": {},
   "source": [
    "## Logs"
   ]
  },
  {
   "cell_type": "code",
   "execution_count": 43,
   "metadata": {},
   "outputs": [
    {
     "name": "stdout",
     "output_type": "stream",
     "text": [
      "\n",
      "> udagram-api-feed@2.0.0 prod /usr/src/app\n",
      "> tsc && node ./www/server.js\n",
      "\n",
      "Initialize database connection...\n",
      "Executing (default): CREATE TABLE IF NOT EXISTS \"FeedItem\" (\"id\"   SERIAL , \"caption\" VARCHAR(255), \"url\" VARCHAR(255), \"createdAt\" TIMESTAMP WITH TIME ZONE, \"updatedAt\" TIMESTAMP WITH TIME ZONE, PRIMARY KEY (\"id\"));\n",
      "Executing (default): SELECT i.relname AS name, ix.indisprimary AS primary, ix.indisunique AS unique, ix.indkey AS indkey, array_agg(a.attnum) as column_indexes, array_agg(a.attname) AS column_names, pg_get_indexdef(ix.indexrelid) AS definition FROM pg_class t, pg_class i, pg_index ix, pg_attribute a WHERE t.oid = ix.indrelid AND i.oid = ix.indexrelid AND a.attrelid = t.oid AND t.relkind = 'r' and t.relname = 'FeedItem' GROUP BY i.relname, ix.indexrelid, ix.indisprimary, ix.indisunique, ix.indkey ORDER BY i.relname;\n",
      "{\"level\":\"info\",\"message\":\"server running http://localhost:8100\"}\n",
      "{\"level\":\"info\",\"message\":\"press CTRL+C to stop server\"}\n",
      "{\"contentLength\":\"-\",\"id\":\"a41591f1\",\"level\":\"info\",\"message\":\"HTTP Access Log\",\"method\":\"OPTIONS\",\"responseTime\":null,\"status\":null,\"timestamp\":\"Sat Jul 30 2022 04:09:23 GMT+0000 (Coordinated Universal Time)\",\"url\":\"/api/v0/feed\"}\n",
      "{\"contentLength\":\"13\",\"id\":\"a41591f1\",\"level\":\"info\",\"message\":\"HTTP Access Log\",\"method\":\"OPTIONS\",\"responseTime\":2.871,\"status\":200,\"timestamp\":\"Sat Jul 30 2022 04:09:23 GMT+0000 (Coordinated Universal Time)\",\"url\":\"/api/v0/feed\"}\n",
      "{\"contentLength\":\"-\",\"id\":\"64ab4ade\",\"level\":\"info\",\"message\":\"HTTP Access Log\",\"method\":\"OPTIONS\",\"responseTime\":null,\"status\":null,\"timestamp\":\"Sat Jul 30 2022 04:10:24 GMT+0000 (Coordinated Universal Time)\",\"url\":\"/api/v0/feed/signed-url/xander0.jpg\"}\n",
      "{\"contentLength\":\"8\",\"id\":\"64ab4ade\",\"level\":\"info\",\"message\":\"HTTP Access Log\",\"method\":\"OPTIONS\",\"responseTime\":0.72,\"status\":200,\"timestamp\":\"Sat Jul 30 2022 04:10:24 GMT+0000 (Coordinated Universal Time)\",\"url\":\"/api/v0/feed/signed-url/xander0.jpg\"}\n",
      "{\"contentLength\":\"-\",\"id\":\"9e1ef9eb\",\"level\":\"info\",\"message\":\"HTTP Access Log\",\"method\":\"GET\",\"responseTime\":null,\"status\":null,\"timestamp\":\"Sat Jul 30 2022 04:10:24 GMT+0000 (Coordinated Universal Time)\",\"url\":\"/api/v0/feed/signed-url/xander0.jpg\"}\n",
      "{\"contentLength\":\"356\",\"id\":\"9e1ef9eb\",\"level\":\"info\",\"message\":\"HTTP Access Log\",\"method\":\"GET\",\"responseTime\":13.807,\"status\":201,\"timestamp\":\"Sat Jul 30 2022 04:10:24 GMT+0000 (Coordinated Universal Time)\",\"url\":\"/api/v0/feed/signed-url/xander0.jpg\"}\n",
      "{\"contentLength\":\"-\",\"id\":\"1ab708e4\",\"level\":\"info\",\"message\":\"HTTP Access Log\",\"method\":\"OPTIONS\",\"responseTime\":null,\"status\":null,\"timestamp\":\"Sat Jul 30 2022 04:10:39 GMT+0000 (Coordinated Universal Time)\",\"url\":\"/api/v0/feed\"}\n",
      "{\"contentLength\":\"13\",\"id\":\"1ab708e4\",\"level\":\"info\",\"message\":\"HTTP Access Log\",\"method\":\"OPTIONS\",\"responseTime\":0.355,\"status\":200,\"timestamp\":\"Sat Jul 30 2022 04:10:39 GMT+0000 (Coordinated Universal Time)\",\"url\":\"/api/v0/feed\"}\n",
      "{\"contentLength\":\"-\",\"id\":\"a6878f93\",\"level\":\"info\",\"message\":\"HTTP Access Log\",\"method\":\"GET\",\"responseTime\":null,\"status\":null,\"timestamp\":\"Sat Jul 30 2022 04:29:38 GMT+0000 (Coordinated Universal Time)\",\"url\":\"/api/v0/feed\"}\n",
      "Executing (default): SELECT count(*) AS \"count\" FROM \"FeedItem\" AS \"FeedItem\";\n",
      "Executing (default): SELECT \"id\", \"caption\", \"url\", \"createdAt\", \"updatedAt\" FROM \"FeedItem\" AS \"FeedItem\" ORDER BY \"FeedItem\".\"id\" DESC;\n",
      "{\"contentLength\":\"485\",\"id\":\"a6878f93\",\"level\":\"info\",\"message\":\"HTTP Access Log\",\"method\":\"GET\",\"responseTime\":21.165,\"status\":200,\"timestamp\":\"Sat Jul 30 2022 04:29:38 GMT+0000 (Coordinated Universal Time)\",\"url\":\"/api/v0/feed\"}\n",
      "{\"contentLength\":\"-\",\"id\":\"10f5f7cf\",\"level\":\"info\",\"message\":\"HTTP Access Log\",\"method\":\"OPTIONS\",\"responseTime\":null,\"status\":null,\"timestamp\":\"Sat Jul 30 2022 04:30:30 GMT+0000 (Coordinated Universal Time)\",\"url\":\"/api/v0/feed/signed-url/xander1.jpg\"}\n",
      "{\"contentLength\":\"8\",\"id\":\"10f5f7cf\",\"level\":\"info\",\"message\":\"HTTP Access Log\",\"method\":\"OPTIONS\",\"responseTime\":0.311,\"status\":200,\"timestamp\":\"Sat Jul 30 2022 04:30:30 GMT+0000 (Coordinated Universal Time)\",\"url\":\"/api/v0/feed/signed-url/xander1.jpg\"}\n",
      "{\"contentLength\":\"-\",\"id\":\"791c3c25\",\"level\":\"info\",\"message\":\"HTTP Access Log\",\"method\":\"OPTIONS\",\"responseTime\":null,\"status\":null,\"timestamp\":\"Sat Jul 30 2022 04:30:54 GMT+0000 (Coordinated Universal Time)\",\"url\":\"/api/v0/feed\"}\n",
      "{\"contentLength\":\"13\",\"id\":\"791c3c25\",\"level\":\"info\",\"message\":\"HTTP Access Log\",\"method\":\"OPTIONS\",\"responseTime\":0.322,\"status\":200,\"timestamp\":\"Sat Jul 30 2022 04:30:54 GMT+0000 (Coordinated Universal Time)\",\"url\":\"/api/v0/feed\"}\n"
     ]
    }
   ],
   "source": [
    "%%bash\n",
    "kubectl logs backend-feed-98dcfd6f9-lmwfs"
   ]
  },
  {
   "cell_type": "markdown",
   "metadata": {},
   "source": [
    "## Clean up used resources"
   ]
  },
  {
   "cell_type": "markdown",
   "metadata": {},
   "source": [
    "### Empty S3 Bucket"
   ]
  },
  {
   "cell_type": "code",
   "execution_count": 44,
   "metadata": {},
   "outputs": [
    {
     "name": "stdout",
     "output_type": "stream",
     "text": [
      "delete: s3://mono-to-micro-project-s3bucket-sf67os5rjm6b/xander0.jpg\n",
      "delete: s3://mono-to-micro-project-s3bucket-sf67os5rjm6b/xander1.jpg\n"
     ]
    }
   ],
   "source": [
    "%%bash -s \"$bucket_name\"\n",
    "aws s3 rm s3://$1 \\\n",
    "  --recursive"
   ]
  },
  {
   "cell_type": "markdown",
   "metadata": {},
   "source": [
    "### Delete the CloudFormation Stack"
   ]
  },
  {
   "cell_type": "code",
   "execution_count": 45,
   "metadata": {},
   "outputs": [],
   "source": [
    "%%bash\n",
    "aws cloudformation delete-stack \\\n",
    "  --stack-name mono-to-micro-project"
   ]
  },
  {
   "cell_type": "markdown",
   "metadata": {},
   "source": [
    "### Delete the Kubernetes cluster"
   ]
  },
  {
   "cell_type": "code",
   "execution_count": 46,
   "metadata": {},
   "outputs": [
    {
     "name": "stdout",
     "output_type": "stream",
     "text": [
      "2022-07-30 09:43:00 [ℹ]  deleting EKS cluster \"monoToMicroProject\"\n",
      "2022-07-30 09:43:03 [ℹ]  will drain 0 unmanaged nodegroup(s) in cluster \"monoToMicroProject\"\n",
      "2022-07-30 09:43:03 [ℹ]  starting parallel draining, max in-flight of 1\n",
      "2022-07-30 09:43:05 [ℹ]  deleted 0 Fargate profile(s)\n",
      "2022-07-30 09:43:09 [✔]  kubeconfig has been updated\n",
      "2022-07-30 09:43:09 [ℹ]  cleaning up AWS load balancers created by Kubernetes objects of Kind Service or Ingress\n",
      "2022-07-30 09:44:40 [ℹ]  \n",
      "2 sequential tasks: { delete nodegroup \"ng-6db8eac3\", delete cluster control plane \"monoToMicroProject\" [async] \n",
      "}\n",
      "2022-07-30 09:44:41 [ℹ]  will delete stack \"eksctl-monoToMicroProject-nodegroup-ng-6db8eac3\"\n",
      "2022-07-30 09:44:41 [ℹ]  waiting for stack \"eksctl-monoToMicroProject-nodegroup-ng-6db8eac3\" to get deleted\n",
      "2022-07-30 09:44:41 [ℹ]  waiting for CloudFormation stack \"eksctl-monoToMicroProject-nodegroup-ng-6db8eac3\"\n",
      "2022-07-30 09:45:13 [ℹ]  waiting for CloudFormation stack \"eksctl-monoToMicroProject-nodegroup-ng-6db8eac3\"\n",
      "2022-07-30 10:00:57 [ℹ]  waiting for CloudFormation stack \"eksctl-monoToMicroProject-nodegroup-ng-6db8eac3\"\n",
      "2022-07-30 10:00:58 [ℹ]  will delete stack \"eksctl-monoToMicroProject-cluster\"\n",
      "2022-07-30 10:01:00 [✔]  all cluster resources were deleted\n"
     ]
    }
   ],
   "source": [
    "%%bash\n",
    "eksctl delete cluster --name monoToMicroProject --region=us-east-1"
   ]
  }
 ],
 "metadata": {
  "kernelspec": {
   "display_name": "Python 3 (ipykernel)",
   "language": "python",
   "name": "python3"
  },
  "language_info": {
   "codemirror_mode": {
    "name": "ipython",
    "version": 3
   },
   "file_extension": ".py",
   "mimetype": "text/x-python",
   "name": "python",
   "nbconvert_exporter": "python",
   "pygments_lexer": "ipython3",
   "version": "3.10.4"
  },
  "vscode": {
   "interpreter": {
    "hash": "1f7e61a1528545a623605fcae290c8c7bd1111ff77b5615338bdea2f91add535"
   }
  }
 },
 "nbformat": 4,
 "nbformat_minor": 4
}
