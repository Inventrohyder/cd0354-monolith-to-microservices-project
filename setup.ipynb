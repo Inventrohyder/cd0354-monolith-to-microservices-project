{
 "cells": [
  {
   "cell_type": "markdown",
   "metadata": {},
   "source": [
    "# Monolith To MicroServices Udacity Project"
   ]
  },
  {
   "cell_type": "code",
   "execution_count": null,
   "metadata": {},
   "outputs": [],
   "source": [
    "import json\n",
    "from IPython.utils.text import SList"
   ]
  },
  {
   "cell_type": "markdown",
   "metadata": {},
   "source": [
    "## Setup Secrets"
   ]
  },
  {
   "cell_type": "markdown",
   "metadata": {},
   "source": [
    "Copy the [sample.set_env.sh](./sample.set_env.sh) into a new file `set_env.sh`.\n",
    "\n",
    "Edit the secrets to the appropriate values."
   ]
  },
  {
   "cell_type": "markdown",
   "metadata": {},
   "source": [
    "## Setup the AWS Project resources"
   ]
  },
  {
   "cell_type": "markdown",
   "metadata": {},
   "source": [
    "Set up:\n",
    "\n",
    "* The RDS (database)\n",
    "* The S3 bucket (file storage)\n",
    "\n",
    "Use CloudFormation to make it easier to handle all the related resources together.\n",
    "\n",
    "Here is the resources dependency graph:\n",
    "\n",
    "![Resources Dependency Graph](./screenshots/resources-dependency-graph.png)"
   ]
  },
  {
   "cell_type": "code",
   "execution_count": 1,
   "metadata": {},
   "outputs": [
    {
     "name": "stdout",
     "output_type": "stream",
     "text": [
      "{\n",
      "    \"StackId\": \"arn:aws:cloudformation:us-east-1:549763406380:stack/mono-to-micro-project/e1309690-0e6f-11ed-9a25-0a3ba9d153fb\"\n",
      "}\n"
     ]
    }
   ],
   "source": [
    "%%bash\n",
    "source ./set_env.sh\n",
    "aws cloudformation create-stack \\\n",
    "  --template-body file://mono-to-micro-template.json \\\n",
    "  --parameters ParameterKey=DBPassword,ParameterValue=$POSTGRES_PASSWORD \\\n",
    "    ParameterKey=DBUsername,ParameterValue=$POSTGRES_USERNAME \\\n",
    "  --stack-name mono-to-micro-project"
   ]
  },
  {
   "cell_type": "code",
   "execution_count": 28,
   "metadata": {},
   "outputs": [
    {
     "data": {
      "text/plain": [
       "['{',\n",
       " '    \"Stacks\": [',\n",
       " '        {',\n",
       " '            \"StackId\": \"arn:aws:cloudformation:us-east-1:549763406380:stack/mono-to-micro-project/e1309690-0e6f-11ed-9a25-0a3ba9d153fb\",',\n",
       " '            \"StackName\": \"mono-to-micro-project\",',\n",
       " '            \"Parameters\": [',\n",
       " '                {',\n",
       " '                    \"ParameterKey\": \"DBPassword\",',\n",
       " '                    \"ParameterValue\": \"****\"',\n",
       " '                },',\n",
       " '                {',\n",
       " '                    \"ParameterKey\": \"DBUsername\",',\n",
       " '                    \"ParameterValue\": \"****\"',\n",
       " '                }',\n",
       " '            ],',\n",
       " '            \"CreationTime\": \"2022-07-28T12:28:14.361000+00:00\",',\n",
       " '            \"RollbackConfiguration\": {},',\n",
       " '            \"StackStatus\": \"CREATE_COMPLETE\",',\n",
       " '            \"DisableRollback\": false,',\n",
       " '            \"NotificationARNs\": [],',\n",
       " '            \"Outputs\": [',\n",
       " '                {',\n",
       " '                    \"OutputKey\": \"BucketName\",',\n",
       " '                    \"OutputValue\": \"mono-to-micro-project-s3bucket-1ciwmj8udutea\",',\n",
       " '                    \"Description\": \"The S3 Bucket created.\"',\n",
       " '                },',\n",
       " '                {',\n",
       " '                    \"OutputKey\": \"DBEndpoint\",',\n",
       " '                    \"OutputValue\": \"mr3tzsiez7j6tp.crxb2aefz7m1.us-east-1.rds.amazonaws.com\",',\n",
       " '                    \"Description\": \"The database address\"',\n",
       " '                },',\n",
       " '                {',\n",
       " '                    \"OutputKey\": \"DBPort\",',\n",
       " '                    \"OutputValue\": \"5432\",',\n",
       " '                    \"Description\": \"The database port\"',\n",
       " '                }',\n",
       " '            ],',\n",
       " '            \"Tags\": [],',\n",
       " '            \"EnableTerminationProtection\": false,',\n",
       " '            \"DriftInformation\": {',\n",
       " '                \"StackDriftStatus\": \"NOT_CHECKED\"',\n",
       " '            }',\n",
       " '        }',\n",
       " '    ]',\n",
       " '}']"
      ]
     },
     "execution_count": 28,
     "metadata": {},
     "output_type": "execute_result"
    }
   ],
   "source": [
    "project_stack: SList = !aws cloudformation describe-stacks --stack-name mono-to-micro-project\n",
    "\n",
    "project_stack"
   ]
  },
  {
   "cell_type": "code",
   "execution_count": 29,
   "metadata": {},
   "outputs": [
    {
     "data": {
      "text/plain": [
       "{'Stacks': [{'StackId': 'arn:aws:cloudformation:us-east-1:549763406380:stack/mono-to-micro-project/e1309690-0e6f-11ed-9a25-0a3ba9d153fb',\n",
       "   'StackName': 'mono-to-micro-project',\n",
       "   'Parameters': [{'ParameterKey': 'DBPassword', 'ParameterValue': '****'},\n",
       "    {'ParameterKey': 'DBUsername', 'ParameterValue': '****'}],\n",
       "   'CreationTime': '2022-07-28T12:28:14.361000+00:00',\n",
       "   'RollbackConfiguration': {},\n",
       "   'StackStatus': 'CREATE_COMPLETE',\n",
       "   'DisableRollback': False,\n",
       "   'NotificationARNs': [],\n",
       "   'Outputs': [{'OutputKey': 'BucketName',\n",
       "     'OutputValue': 'mono-to-micro-project-s3bucket-1ciwmj8udutea',\n",
       "     'Description': 'The S3 Bucket created.'},\n",
       "    {'OutputKey': 'DBEndpoint',\n",
       "     'OutputValue': 'mr3tzsiez7j6tp.crxb2aefz7m1.us-east-1.rds.amazonaws.com',\n",
       "     'Description': 'The database address'},\n",
       "    {'OutputKey': 'DBPort',\n",
       "     'OutputValue': '5432',\n",
       "     'Description': 'The database port'}],\n",
       "   'Tags': [],\n",
       "   'EnableTerminationProtection': False,\n",
       "   'DriftInformation': {'StackDriftStatus': 'NOT_CHECKED'}}]}"
      ]
     },
     "execution_count": 29,
     "metadata": {},
     "output_type": "execute_result"
    }
   ],
   "source": [
    "project_stack: dict = json.loads(project_stack.nlstr)\n",
    "project_stack"
   ]
  },
  {
   "cell_type": "code",
   "execution_count": 33,
   "metadata": {},
   "outputs": [
    {
     "data": {
      "text/plain": [
       "('mono-to-micro-project-s3bucket-1ciwmj8udutea',\n",
       " 'mr3tzsiez7j6tp.crxb2aefz7m1.us-east-1.rds.amazonaws.com',\n",
       " '5432')"
      ]
     },
     "execution_count": 33,
     "metadata": {},
     "output_type": "execute_result"
    }
   ],
   "source": [
    "bucket_name, db_host, db_port = None, None, None\n",
    "for output in project_stack['Stacks'][0]['Outputs']:\n",
    "  if output['OutputKey'] == 'BucketName':\n",
    "    bucket_name = output['OutputValue']\n",
    "  elif output['OutputKey'] == 'DBEndpoint':\n",
    "    db_host = output['OutputValue']\n",
    "  elif output['OutputKey'] == 'DBPort':\n",
    "    db_port = output['OutputValue']\n",
    "    \n",
    "bucket_name, db_host, db_port"
   ]
  },
  {
   "cell_type": "markdown",
   "metadata": {},
   "source": [
    "## Clean up used resources"
   ]
  },
  {
   "cell_type": "markdown",
   "metadata": {},
   "source": [
    "### Empty S3 Bucket"
   ]
  },
  {
   "cell_type": "code",
   "execution_count": 4,
   "metadata": {},
   "outputs": [
    {
     "name": "stdout",
     "output_type": "stream",
     "text": [
      "delete: s3://mono-to-micro-project-s3bucket-150yzcsnu6pp0/xander0.jpg\n",
      "delete: s3://mono-to-micro-project-s3bucket-150yzcsnu6pp0/xander2.jpg\n"
     ]
    }
   ],
   "source": [
    "%%bash\n",
    "aws s3 rm s3://{bucket_name} \\\n",
    "  --recursive"
   ]
  },
  {
   "cell_type": "markdown",
   "metadata": {},
   "source": [
    "### Delete the CloudFormation Stack"
   ]
  },
  {
   "cell_type": "code",
   "execution_count": 5,
   "metadata": {},
   "outputs": [],
   "source": [
    "%%bash\n",
    "aws cloudformation delete-stack \\\n",
    "  --stack-name mono-to-micro-project"
   ]
  }
 ],
 "metadata": {
  "kernelspec": {
   "display_name": "Python 3.10.4 ('.venv': venv)",
   "language": "python",
   "name": "python3"
  },
  "language_info": {
   "codemirror_mode": {
    "name": "ipython",
    "version": 3
   },
   "file_extension": ".py",
   "mimetype": "text/x-python",
   "name": "python",
   "nbconvert_exporter": "python",
   "pygments_lexer": "ipython3",
   "version": "3.10.4"
  },
  "orig_nbformat": 4,
  "vscode": {
   "interpreter": {
    "hash": "1f7e61a1528545a623605fcae290c8c7bd1111ff77b5615338bdea2f91add535"
   }
  }
 },
 "nbformat": 4,
 "nbformat_minor": 2
}
